{
 "cells": [
  {
   "cell_type": "code",
   "execution_count": 1,
   "id": "alien-administrator",
   "metadata": {},
   "outputs": [],
   "source": [
    "%load_ext autoreload\n",
    "%autoreload 2\n",
    "import numpy as np\n",
    "from numpy.polynomial import Polynomial\n",
    "import sympy\n",
    "from functools import reduce\n",
    "from scipy.spatial.distance import cosine\n",
    "from tqdm import tqdm\n",
    "import helpers\n",
    "import stopit\n",
    "import sys\n",
    "import matplotlib.pyplot as plt"
   ]
  },
  {
   "cell_type": "code",
   "execution_count": null,
   "id": "powerful-cheese",
   "metadata": {},
   "outputs": [
    {
     "name": "stderr",
     "output_type": "stream",
     "text": [
      "100%|██████████| 100/100 [00:21<00:00,  4.62it/s]\n",
      "  0%|          | 0/100 [00:00<?, ?it/s]"
     ]
    },
    {
     "name": "stdout",
     "output_type": "stream",
     "text": [
      "Grad: 5 7.4 0.14212670403551894\n",
      "Random: 5 2.6 0.14282856857085702\n"
     ]
    },
    {
     "name": "stderr",
     "output_type": "stream",
     "text": [
      "100%|██████████| 100/100 [00:33<00:00,  3.00it/s]\n",
      "  0%|          | 0/100 [00:00<?, ?it/s]"
     ]
    },
    {
     "name": "stdout",
     "output_type": "stream",
     "text": [
      "Grad: 10 7.64 0.13821722034536796\n",
      "Random: 10 2.445 0.1377307155285269\n"
     ]
    },
    {
     "name": "stderr",
     "output_type": "stream",
     "text": [
      "  2%|▏         | 2/100 [00:02<02:06,  1.29s/it]"
     ]
    }
   ],
   "source": [
    "def evaluate(max_vars, max_terms, max_symbols_per_term, max_coeff, max_offset, steps, num_polynomials, verbose=True):\n",
    "    # Repeatedly generate random polynomials, evaluate each strategy and return the win counts of each strategy\n",
    "    results = {\"grad\": [], \"0\": [], \"random\": []}\n",
    "    polynomials = []\n",
    "    tracker = tqdm if verbose else lambda x: x\n",
    "    for i in tracker(range(num_polynomials)):\n",
    "        poly, symbols = helpers.random_sos_polynomial(\n",
    "            max_vars=max_vars,\n",
    "            max_terms=max_terms,\n",
    "            numeric_type=numeric_type,\n",
    "            max_symbols_per_term=max_symbols_per_term,\n",
    "            max_coeff=max_coeff,\n",
    "            max_offset=max_offset)\n",
    "        polynomials.append(poly)\n",
    "\n",
    "        try:\n",
    "            with stopit.ThreadingTimeout(5.0) as timeout_ctx:\n",
    "                grad_result = helpers.gradient_descent(\n",
    "                    poly,\n",
    "                    start=start_fn(poly),\n",
    "                    steps=steps,\n",
    "                    min_value=-1e50,\n",
    "                    verbosity=None,\n",
    "                    reduce_fn=reduce_fn)[1]\n",
    "                random_result = helpers.random_search(poly, numeric_type=numeric_type, steps=steps, scale=10)[1]\n",
    "                results[\"grad\"].append(float(grad_result))\n",
    "                results[\"random\"].append(float(random_result))\n",
    "                results[\"0\"].append(poly.eval({x: 0 for x in poly.gens}))\n",
    "        except stopit.TimeoutException as e:\n",
    "            print(e)\n",
    "            continue\n",
    "            \n",
    "    # Return the map from strategy name to win count\n",
    "    return results, polynomials\n",
    "\n",
    "\n",
    "\n",
    "num_iterations = 100\n",
    "max_vars = 10\n",
    "max_terms = 10\n",
    "max_coeff = 10\n",
    "max_offset = 1000\n",
    "\n",
    "numeric_type = helpers.NumericType.int\n",
    "reduce_fn = helpers.size_one_steps\n",
    "start_fn = lambda poly: helpers.sample_gen_vals(poly, scale=1, numeric_type=numeric_type)\n",
    "\n",
    "grad_counts = []\n",
    "random_counts = []\n",
    "for steps in [5, 10, 50, 100]:\n",
    "    for i in tqdm(range(num_iterations)):\n",
    "        results, polynomials = evaluate(\n",
    "            max_vars=max_vars,\n",
    "            max_terms=max_terms,\n",
    "            max_symbols_per_term=2,\n",
    "            max_coeff=max_coeff,\n",
    "            max_offset=max_offset,\n",
    "            steps=steps,\n",
    "            num_polynomials=10,\n",
    "            verbose=False)\n",
    "\n",
    "        aggregate_results = {\n",
    "            k: sum([results[k][i] == min([results[kk][i] for kk in results]) for i in range(len(results[k]))])\n",
    "            for k in results\n",
    "        }\n",
    "        grad_counts.append(aggregate_results[\"grad\"])\n",
    "        random_counts.append(aggregate_results[\"random\"])\n",
    "\n",
    "    print(\"Grad:\", steps, np.mean(grad_counts), np.std(grad_counts) / np.sqrt(num_iterations))\n",
    "    print(\"Random:\", steps, np.mean(random_counts), np.std(random_counts) / np.sqrt(num_iterations))"
   ]
  },
  {
   "cell_type": "code",
   "execution_count": null,
   "id": "peripheral-wound",
   "metadata": {},
   "outputs": [],
   "source": []
  }
 ],
 "metadata": {
  "kernelspec": {
   "display_name": "Python 3",
   "language": "python",
   "name": "python3"
  },
  "language_info": {
   "codemirror_mode": {
    "name": "ipython",
    "version": 3
   },
   "file_extension": ".py",
   "mimetype": "text/x-python",
   "name": "python",
   "nbconvert_exporter": "python",
   "pygments_lexer": "ipython3",
   "version": "3.8.2"
  }
 },
 "nbformat": 4,
 "nbformat_minor": 5
}
