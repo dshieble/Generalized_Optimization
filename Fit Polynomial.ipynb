{
 "cells": [
  {
   "cell_type": "code",
   "execution_count": null,
   "id": "explicit-production",
   "metadata": {},
   "outputs": [],
   "source": [
    "%load_ext autoreload\n",
    "%autoreload 2\n",
    "\n",
    "import matplotlib.pyplot as plt\n",
    "import numpy as np\n",
    "from numpy.polynomial import Polynomial\n",
    "import sympy\n",
    "from functools import reduce\n",
    "import helpers\n",
    "from textwrap import wrap\n",
    "\n",
    "from sympy.printing.latex import LatexPrinter, print_latex\n",
    "\n",
    "import polynomial_helpers as ph\n",
    "\n",
    "MAX_T = 6\n"
   ]
  },
  {
   "cell_type": "code",
   "execution_count": null,
   "id": "defined-subdivision",
   "metadata": {},
   "outputs": [],
   "source": [
    "\n",
    "\n",
    "def get_chopped_title(title):\n",
    "    return title[:title.find(\"t^{12}\") + 9] + \"...\" + title[title.find(\"t^{3}\") + 5:]\n",
    "\n",
    "def get_chopped_title_from_coefficients(coefficient_dict):\n",
    "    evaluated_polynomial = ph.evaluate_s(sympy.symbols(\"t\"), coefficient_dict)\n",
    "    title = ((\"$s(t) = {}$\".format(LatexPrinter().doprint(evaluated_polynomial))  + \"\\n\")\n",
    "                .replace(\"t^{13} -\", \"t^{13} - $\\n$\")\n",
    "                .replace(\"t^{13} +\", \"t^{13} + $\\n$\")\n",
    "                .replace(\"t^{10} +\", \"t^{10} + $\\n$\")\n",
    "                .replace(\"t^{10} -\", \"t^{10} + $\\n$\")\n",
    "                .replace(\"t^{6} +\", \"t^{6} + $\\n$\")\n",
    "                .replace(\"t^{6} -\", \"t^{6} + $\\n$\"))\n",
    "    return get_chopped_title(title)\n",
    "\n",
    "\n",
    "fig = plt.figure(figsize=(35, 20))\n",
    "fig.tight_layout()\n",
    "\n",
    "\n",
    "plt.subplot(1,2,1)\n",
    "x = sympy.symbols(\"x\")\n",
    "result = ph.get_dynamical_system_result(\n",
    "    x=x,\n",
    "    polynomial_to_optimize=(x*x),\n",
    "    max_t=MAX_T)\n",
    "\n",
    "plt.title(get_chopped_title_from_coefficients(coefficient_dict=result.coefficient_dict), wrap=False, fontsize=25)\n",
    "plt.scatter(result.t_values, result.s_values, s=400)\n",
    "plt.xlabel(\"$t$\", fontsize=30)\n",
    "plt.ylabel(\"$s(t)$\", fontsize=30)\n",
    "plt.gca().tick_params(axis='both', which='major', labelsize=20)\n",
    "plt.gca().tick_params(axis='both', which='minor', labelsize=20)\n",
    "\n",
    "\n",
    "plt.subplot(1,2,2)\n",
    "x = sympy.symbols(\"x\")\n",
    "result = ph.get_dynamical_system_result(\n",
    "    x=x,\n",
    "    polynomial_to_optimize=(2*x*x - 1), \n",
    "    max_t=MAX_T)\n",
    "\n",
    "\n",
    "plt.title(get_chopped_title_from_coefficients(coefficient_dict=result.coefficient_dict), wrap=False, fontsize=25)\n",
    "plt.scatter(result.t_values, result.s_values, s=400)\n",
    "plt.xlabel(\"$t$\", fontsize=30)\n",
    "plt.ylabel(\"$s(t)$\", fontsize=30)\n",
    "plt.gca().tick_params(axis='both', which='major', labelsize=20)\n",
    "plt.gca().tick_params(axis='both', which='minor', labelsize=20)\n"
   ]
  },
  {
   "cell_type": "code",
   "execution_count": null,
   "id": "referenced-hayes",
   "metadata": {},
   "outputs": [],
   "source": []
  },
  {
   "cell_type": "code",
   "execution_count": null,
   "id": "optimum-newark",
   "metadata": {},
   "outputs": [],
   "source": []
  },
  {
   "cell_type": "code",
   "execution_count": null,
   "id": "urban-works",
   "metadata": {},
   "outputs": [],
   "source": []
  },
  {
   "cell_type": "code",
   "execution_count": null,
   "id": "happy-modern",
   "metadata": {},
   "outputs": [],
   "source": []
  }
 ],
 "metadata": {
  "kernelspec": {
   "display_name": "Python 3",
   "language": "python",
   "name": "python3"
  },
  "language_info": {
   "codemirror_mode": {
    "name": "ipython",
    "version": 3
   },
   "file_extension": ".py",
   "mimetype": "text/x-python",
   "name": "python",
   "nbconvert_exporter": "python",
   "pygments_lexer": "ipython3",
   "version": "3.6.6"
  },
  "toc": {
   "base_numbering": 1,
   "nav_menu": {},
   "number_sections": false,
   "sideBar": false,
   "skip_h1_title": false,
   "title_cell": "Table of Contents",
   "title_sidebar": "Contents",
   "toc_cell": false,
   "toc_position": {},
   "toc_section_display": false,
   "toc_window_display": false
  }
 },
 "nbformat": 4,
 "nbformat_minor": 5
}
